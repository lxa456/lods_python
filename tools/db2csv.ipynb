{
 "cells": [
  {
   "cell_type": "code",
   "execution_count": 7,
   "metadata": {},
   "outputs": [],
   "source": [
    "import sqlite3\n",
    "import csv\n",
    "\n",
    "# 连接到SQLite3数据库\n",
    "conn = sqlite3.connect('DATABASE.db')\n",
    "\n",
    "# 获取游标\n",
    "cur = conn.cursor()\n",
    "\n",
    "# 执行SQL查询语句\n",
    "cur.execute(\"SELECT * FROM systems\")\n",
    "\n",
    "# 获取所有行数据\n",
    "rows = cur.fetchall()\n",
    "\n",
    "# 写入CSV文件\n",
    "with open('DATABASE.csv', 'w', newline='') as file:\n",
    "    writer = csv.writer(file)\n",
    "    writer.writerows(rows)\n",
    "\n",
    "# 关闭游标和连接\n",
    "cur.close()\n",
    "conn.close()"
   ]
  },
  {
   "cell_type": "code",
   "execution_count": 8,
   "metadata": {},
   "outputs": [],
   "source": [
    "import pandas as pd\n",
    "import json\n",
    "\n",
    "# 读取CSV文件\n",
    "df = pd.read_csv('DATABASE.csv', header=None)\n",
    "\n",
    "# 选择第二十六列\n",
    "column_data = df.iloc[:, 25]  # 选择第二列\n",
    "\n",
    "# 解析JSON数据\n",
    "json_data = column_data.apply(json.loads)"
   ]
  },
  {
   "cell_type": "code",
   "execution_count": 9,
   "metadata": {},
   "outputs": [
    {
     "name": "stdout",
     "output_type": "stream",
     "text": [
      "As10_[10-C3v]\n",
      "4685\n"
     ]
    }
   ],
   "source": [
    "# 获取第一行数据\n",
    "first_row_data = json_data[0]\n",
    "\n",
    "# 获取第一行数据中名为\"name\"的字段值\n",
    "name_value = first_row_data['filename']\n",
    "\n",
    "print(name_value)\n",
    "num_rows = len(df)\n",
    "print(num_rows)\n"
   ]
  },
  {
   "cell_type": "code",
   "execution_count": 10,
   "metadata": {},
   "outputs": [],
   "source": [
    "filename_list = []\n",
    "\n",
    "for i in range(num_rows):\n",
    "    row_data = json_data[i]\n",
    "    filename_value = row_data['filename']\n",
    "    filename_list.append(filename_value)"
   ]
  },
  {
   "cell_type": "code",
   "execution_count": 11,
   "metadata": {},
   "outputs": [],
   "source": [
    "csv_path = \"filename_DOI.csv\""
   ]
  },
  {
   "cell_type": "code",
   "execution_count": 12,
   "metadata": {},
   "outputs": [],
   "source": [
    "id_list, DOI_list = [], []\n",
    "[id_list.append(i+1) for i in range(num_rows)]\n",
    "[DOI_list.append(\"\") for _ in range(num_rows)]\n",
    "\n",
    "filename_DOI = pd.DataFrame({\"id\":id_list, \"filename\":filename_list, \\\n",
    "                \"Reference\": DOI_list}) #formula_list, \n",
    "filename_DOI.to_csv(csv_path, index=False, sep=',')"
   ]
  },
  {
   "cell_type": "code",
   "execution_count": 13,
   "metadata": {},
   "outputs": [],
   "source": [
    "def csv_to_xlsx_pd(sourcePath:str,savePath:str,encode='utf-8'):\n",
    "    \"\"\"输入文件路径、包含保存文件名的保存地址，然后调用pandas处理转为excel\n",
    "    Args:\n",
    "        sourcePath:str 来源文件路径\n",
    "        savePath:str 保存文件路径，需要包含保存的文件名\n",
    "        encode:str 编码格式，默认为utf-8\n",
    "    \"\"\"\n",
    "\n",
    "    csv = pd.read_csv(sourcePath, encoding=encode)\n",
    "    csv.to_excel(savePath, sheet_name='sheet')\n",
    "    print('处理完毕')"
   ]
  },
  {
   "cell_type": "code",
   "execution_count": 16,
   "metadata": {},
   "outputs": [
    {
     "name": "stdout",
     "output_type": "stream",
     "text": [
      "处理完毕\n"
     ]
    }
   ],
   "source": [
    "excel_path = \"filename_DOI.xlsx\"\n",
    "csv_to_xlsx_pd(csv_path, excel_path)"
   ]
  }
 ],
 "metadata": {
  "kernelspec": {
   "display_name": "base",
   "language": "python",
   "name": "python3"
  },
  "language_info": {
   "codemirror_mode": {
    "name": "ipython",
    "version": 3
   },
   "file_extension": ".py",
   "mimetype": "text/x-python",
   "name": "python",
   "nbconvert_exporter": "python",
   "pygments_lexer": "ipython3",
   "version": "3.9.12"
  },
  "orig_nbformat": 4,
  "vscode": {
   "interpreter": {
    "hash": "f3a52463084db90f96d29dcfcfd9bf276dba3c521d76c4c38c835392b64a093b"
   }
  }
 },
 "nbformat": 4,
 "nbformat_minor": 2
}
